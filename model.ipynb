{
 "cells": [
  {
   "cell_type": "code",
   "execution_count": null,
   "id": "2a0d4f1d",
   "metadata": {},
   "outputs": [],
   "source": [
    "from model.modeling import data_modeling\n",
    "from sklearn.model_selection import learning_curve\n",
    "from cleaning import data_cleaning\n",
    "import matplotlib.pyplot as plt\n",
    "import seaborn as sns\n",
    "from sklearn.inspection import PartialDependenceDisplay"
   ]
  },
  {
   "cell_type": "markdown",
   "id": "702b2af4",
   "metadata": {},
   "source": [
    "* Load and Clean Dataset\n",
    "* Define predictions and y_test to be used in visualization for predictive model accuracy\n"
   ]
  },
  {
   "cell_type": "code",
   "execution_count": null,
   "id": "146b83ed",
   "metadata": {
    "scrolled": true
   },
   "outputs": [],
   "source": [
    "df_path = \"./data/agriculture_dataset.csv\"\n",
    "clean_df, top_3_crops, encoded_df = data_cleaning(df_path)\n",
    "model, predictions, X_train, X_test, y_train, y_test = data_modeling(clean_df)"
   ]
  },
  {
   "cell_type": "code",
   "execution_count": null,
   "id": "49fd4cc1",
   "metadata": {},
   "outputs": [],
   "source": [
    "plt.figure(figsize=(4,3))\n",
    "plt.scatter(y_test, predictions, alpha=0.7, color='teal')\n",
    "plt.plot([y_test.min(), y_test.max()], [y_test.min(), y_test.max()], 'r--')  # Ideal line\n",
    "plt.xlabel('Actual Yield (tons)')\n",
    "plt.ylabel('Predicted Yield (tons)')\n",
    "plt.title('Actual vs Predicted Crop Yield')\n",
    "plt.grid(True)\n",
    "plt.tight_layout()\n",
    "plt.show()\n",
    "\n",
    "plt.savefig(\"./model/actual_vs_predicted.png\", dpi=300);"
   ]
  },
  {
   "cell_type": "raw",
   "id": "c91bcc60",
   "metadata": {},
   "source": [
    "features = ['pesticide_to_yield_ratio', 'fertilizer_to_yield_ratio', 'water_to_yield_ratio']\n",
    "\n",
    "PartialDependenceDisplay.from_estimator(model, X_train, features=features, grid_resolution=50)\n",
    "plt.suptitle('Partial Dependence Plots', fontsize=16)\n",
    "plt.tight_layout()\n",
    "plt.show();"
   ]
  },
  {
   "cell_type": "code",
   "execution_count": null,
   "id": "fb455564",
   "metadata": {},
   "outputs": [],
   "source": []
  }
 ],
 "metadata": {
  "kernelspec": {
   "display_name": "Python 3 (ipykernel)",
   "language": "python",
   "name": "python3"
  },
  "language_info": {
   "codemirror_mode": {
    "name": "ipython",
    "version": 3
   },
   "file_extension": ".py",
   "mimetype": "text/x-python",
   "name": "python",
   "nbconvert_exporter": "python",
   "pygments_lexer": "ipython3",
   "version": "3.10.0"
  }
 },
 "nbformat": 4,
 "nbformat_minor": 5
}
