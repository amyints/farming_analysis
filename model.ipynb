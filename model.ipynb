{
 "cells": [
  {
   "cell_type": "code",
   "execution_count": 2,
   "id": "2a0d4f1d",
   "metadata": {},
   "outputs": [],
   "source": [
    "from model.modeling import data_modeling\n",
    "from sklearn.model_selection import learning_curve\n",
    "from cleaning import data_cleaning\n",
    "import matplotlib.pyplot as plt\n",
    "import seaborn as sns"
   ]
  },
  {
   "cell_type": "code",
   "execution_count": null,
   "id": "146b83ed",
   "metadata": {},
   "outputs": [
    {
     "name": "stdout",
     "output_type": "stream",
     "text": [
      "Missing Values: \n",
      "Farm_ID                      0\n",
      "Crop_Type                    0\n",
      "Farm_Area(acres)             0\n",
      "Irrigation_Type              0\n",
      "Fertilizer_Used(tons)        0\n",
      "Pesticide_Used(kg)           0\n",
      "Yield(tons)                  0\n",
      "Soil_Type                    0\n",
      "Season                       0\n",
      "Water_Usage(cubic meters)    0\n",
      "dtype: int64\n",
      "Number of outliers detected: 0\n",
      "Top 3 crops by yield: ['Tomato', 'Barley', 'Soybean']\n",
      "R-Squared: 0.86\n",
      "MAE: 3.90\n",
      "RMSE: 4.71\n"
     ]
    },
    {
     "ename": "TypeError",
     "evalue": "cannot unpack non-iterable StackingRegressor object",
     "output_type": "error",
     "traceback": [
      "\u001b[0;31m---------------------------------------------------------------------------\u001b[0m",
      "\u001b[0;31mTypeError\u001b[0m                                 Traceback (most recent call last)",
      "Cell \u001b[0;32mIn[9], line 3\u001b[0m\n\u001b[1;32m      1\u001b[0m df_path \u001b[38;5;241m=\u001b[39m \u001b[38;5;124m\"\u001b[39m\u001b[38;5;124m./data/agriculture_dataset.csv\u001b[39m\u001b[38;5;124m\"\u001b[39m\n\u001b[1;32m      2\u001b[0m clean_df, top_3_crops, encoded_df \u001b[38;5;241m=\u001b[39m data_cleaning(df_path)\n\u001b[0;32m----> 3\u001b[0m predictions, X_train, X_test, y_train, y_test \u001b[38;5;241m=\u001b[39m data_modeling(clean_df)\n",
      "\u001b[0;31mTypeError\u001b[0m: cannot unpack non-iterable StackingRegressor object"
     ]
    }
   ],
   "source": [
    "df_path = \"./data/agriculture_dataset.csv\"\n",
    "clean_df, top_3_crops, encoded_df = data_cleaning(df_path)\n",
    "predictions, y_test = data_modeling(clean_df)"
   ]
  },
  {
   "cell_type": "code",
   "execution_count": 4,
   "id": "49fd4cc1",
   "metadata": {},
   "outputs": [
    {
     "ename": "NameError",
     "evalue": "name 'y_test' is not defined",
     "output_type": "error",
     "traceback": [
      "\u001b[0;31m---------------------------------------------------------------------------\u001b[0m",
      "\u001b[0;31mNameError\u001b[0m                                 Traceback (most recent call last)",
      "Cell \u001b[0;32mIn[4], line 2\u001b[0m\n\u001b[1;32m      1\u001b[0m plt\u001b[38;5;241m.\u001b[39mfigure(figsize\u001b[38;5;241m=\u001b[39m(\u001b[38;5;241m4\u001b[39m,\u001b[38;5;241m3\u001b[39m))\n\u001b[0;32m----> 2\u001b[0m plt\u001b[38;5;241m.\u001b[39mscatter(\u001b[43my_test\u001b[49m, predictions, alpha\u001b[38;5;241m=\u001b[39m\u001b[38;5;241m0.7\u001b[39m, color\u001b[38;5;241m=\u001b[39m\u001b[38;5;124m'\u001b[39m\u001b[38;5;124mteal\u001b[39m\u001b[38;5;124m'\u001b[39m)\n\u001b[1;32m      3\u001b[0m plt\u001b[38;5;241m.\u001b[39mplot([y_test\u001b[38;5;241m.\u001b[39mmin(), y_test\u001b[38;5;241m.\u001b[39mmax()], [y_test\u001b[38;5;241m.\u001b[39mmin(), y_test\u001b[38;5;241m.\u001b[39mmax()], \u001b[38;5;124m'\u001b[39m\u001b[38;5;124mr--\u001b[39m\u001b[38;5;124m'\u001b[39m)  \u001b[38;5;66;03m# Ideal line\u001b[39;00m\n\u001b[1;32m      4\u001b[0m plt\u001b[38;5;241m.\u001b[39mxlabel(\u001b[38;5;124m'\u001b[39m\u001b[38;5;124mActual Yield (tons)\u001b[39m\u001b[38;5;124m'\u001b[39m)\n",
      "\u001b[0;31mNameError\u001b[0m: name 'y_test' is not defined"
     ]
    },
    {
     "data": {
      "text/plain": [
       "<Figure size 400x300 with 0 Axes>"
      ]
     },
     "metadata": {},
     "output_type": "display_data"
    }
   ],
   "source": [
    "plt.figure(figsize=(4,3))\n",
    "plt.scatter(y_test, predictions, alpha=0.7, color='teal')\n",
    "plt.plot([y_test.min(), y_test.max()], [y_test.min(), y_test.max()], 'r--')  # Ideal line\n",
    "plt.xlabel('Actual Yield (tons)')\n",
    "plt.ylabel('Predicted Yield (tons)')\n",
    "plt.title('Actual vs Predicted Crop Yield')\n",
    "plt.grid(True)\n",
    "plt.tight_layout()\n",
    "plt.show()\n",
    "\n",
    "plt.savefig(\"./model/actual_vs_predicted.png\", dpi=300);"
   ]
  },
  {
   "cell_type": "code",
   "execution_count": null,
   "id": "cd4b4961",
   "metadata": {},
   "outputs": [],
   "source": []
  }
 ],
 "metadata": {
  "kernelspec": {
   "display_name": "farming",
   "language": "python",
   "name": "python3"
  },
  "language_info": {
   "codemirror_mode": {
    "name": "ipython",
    "version": 3
   },
   "file_extension": ".py",
   "mimetype": "text/x-python",
   "name": "python",
   "nbconvert_exporter": "python",
   "pygments_lexer": "ipython3",
   "version": "3.9.21"
  }
 },
 "nbformat": 4,
 "nbformat_minor": 5
}
